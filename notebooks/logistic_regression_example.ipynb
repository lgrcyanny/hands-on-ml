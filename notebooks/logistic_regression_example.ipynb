{
 "cells": [
  {
   "cell_type": "code",
   "execution_count": 103,
   "metadata": {
    "collapsed": true
   },
   "outputs": [],
   "source": [
    "import numpy as np\n",
    "import pandas as pd\n",
    "from sklearn.linear_model import LogisticRegression\n",
    "from sklearn.preprocessing import OneHotEncoder\n",
    "from sklearn.preprocessing import LabelEncoder\n",
    "from sklearn import metrics\n",
    "import matplotlib.pyplot as plt\n",
    "\n",
    "\n",
    "import numpy as np\n",
    "import pandas as pd\n",
    "from sklearn.linear_model import LogisticRegression\n",
    "from sklearn.preprocessing import OneHotEncoder\n",
    "from sklearn.preprocessing import LabelEncoder\n",
    "from sklearn import metrics\n",
    "\n",
    "class Processor(object):\n",
    "    \"\"\" The processor for training job\n",
    "    \"\"\"\n",
    "\n",
    "    def __init__(self, train_data_path, test_data_path):\n",
    "        \"\"\" init processor\n",
    "        \"\"\"\n",
    "        self.train_data_path = train_data_path\n",
    "        self.test_data_path = test_data_path\n",
    "        self.cat_cols = [\"Month\",\"DayofMonth\",\"DayOfWeek\",\n",
    "        \"UniqueCarrier\", \"Origin\", \"Dest\"]\n",
    "        self.num_cols = [\"DepTime\",\"Distance\"]\n",
    "        self.lable_col = \"dep_delayed_15min\"\n",
    "\n",
    "\n",
    "    def load_data(self):\n",
    "        \"\"\" loading data\n",
    "        \"\"\"\n",
    "        train_df = pd.read_csv(self.train_data_path)\n",
    "        test_df = pd.read_csv(self.test_data_path)\n",
    "        return (train_df, test_df)\n",
    "\n",
    "    def one_hot_encode(self, column, identifer):\n",
    "        \"\"\" one hot encoding the column\n",
    "\n",
    "        column: the pandas column\n",
    "        identifer: the column name\n",
    "        \"\"\"\n",
    "        # Ge one hot encoding of the column\n",
    "        encoded_data = pd.get_dummies(column)\n",
    "        encoded_cols = encoded_data.columns\n",
    "        encoded_data.columns = [\"{0}_{1}\".format(identifer, col) for col in encoded_cols]\n",
    "        return encoded_data\n",
    "\n",
    "    def preprocess(self, train_df, test_df):\n",
    "        \"\"\" Preprocess data:\n",
    "            one-hot-encoding train data\n",
    "        \"\"\"\n",
    "        num_train_rows = train_df.shape[0]\n",
    "        union_train_test = train_df.append(test_df)\n",
    "        %time encoded_train_test_cat = pd.concat(\\\n",
    "            [self.one_hot_encode(union_train_test[col], col) for col in self.cat_cols], axis=1)\n",
    "        # concat numeric columns with one hot encoded columns\n",
    "        encoded_train_test = pd.concat(\n",
    "            [encoded_train_test_cat, union_train_test.loc[:, self.num_cols]], axis=1)\n",
    "        encoded_target = np.where(union_train_test[self.lable_col] == \"Y\", 1, 0)\n",
    "        self.X_train = encoded_train_test[0:num_train_rows]\n",
    "        self.y_train = encoded_target[0:num_train_rows]\n",
    "        self.X_test = encoded_train_test[num_train_rows:]\n",
    "        self.y_test = encoded_target[num_train_rows:]\n",
    "\n",
    "    def train(self):\n",
    "        \"\"\" train data with algorithm\n",
    "        \"\"\"\n",
    "        (train_df, test_df) = self.load_data()\n",
    "        self.preprocess(train_df, test_df)\n",
    "        classifier = LogisticRegression(tol=1e-4, C=1000)\n",
    "        %time classifier.fit(self.X_train, self.y_train)\n",
    "        predictions = classifier.predict_proba(self.X_test)\n",
    "        auc = metrics.roc_auc_score(y_test, predictions[:, 1])\n",
    "        print(\"auc\", auc)\n",
    "\n",
    "        # plot and save roc png\n",
    "        import matplotlib\n",
    "        matplotlib.use(\"Agg\")\n",
    "        import matplotlib.pyplot as plt\n",
    "        fpr, tpr, thresholds = metrics.roc_curve(y_test, y_score)\n",
    "        fig = plt.figure(1)\n",
    "        plt.plot([0, 1], [0, 1], 'k--')\n",
    "        plt.plot(fpr, tpr, label='LR')\n",
    "        fig.savefig(\"./roc.png\")\n",
    "\n",
    "\n"
   ]
  },
  {
   "cell_type": "code",
   "execution_count": 115,
   "metadata": {},
   "outputs": [
    {
     "name": "stdout",
     "output_type": "stream",
     "text": [
      "CPU times: user 702 ms, sys: 79.9 ms, total: 781 ms\n",
      "Wall time: 815 ms\n",
      "CPU times: user 88.9 ms, sys: 69.1 ms, total: 158 ms\n",
      "Wall time: 177 ms\n",
      "('auc', 0.68670030915007119)\n"
     ]
    },
    {
     "data": {
      "image/png": "[encoded data removed]",
      "text/plain": [
       "<matplotlib.figure.Figure at 0x1a13b01fd0>"
      ]
     },
     "metadata": {},
     "output_type": "display_data"
    }
   ],
   "source": [
    "train_path = \"/Users/lgrcyanny/Codecookies/machine-learning-workspace/datasets/flight/train-0.01m.csv\"\n",
    "test_path = \"/Users/lgrcyanny/Codecookies/machine-learning-workspace/datasets/flight/test.csv\"\n",
    "p = Processor(train_path, test_path)\n",
    "p.train()"
   ]
  },
  {
   "cell_type": "code",
   "execution_count": 108,
   "metadata": {
    "collapsed": true
   },
   "outputs": [],
   "source": [
    "train_df, test_df = p.load_data()"
   ]
  },
  {
   "cell_type": "code",
   "execution_count": 109,
   "metadata": {},
   "outputs": [
    {
     "data": {
      "text/html": [
       "<div>\n",
       "<style>\n",
       "    .dataframe thead tr:only-child th {\n",
       "        text-align: right;\n",
       "    }\n",
       "\n",
       "    .dataframe thead th {\n",
       "        text-align: left;\n",
       "    }\n",
       "\n",
       "    .dataframe tbody tr th {\n",
       "        vertical-align: top;\n",
       "    }\n",
       "</style>\n",
       "<table border=\"1\" class=\"dataframe\">\n",
       "  <thead>\n",
       "    <tr style=\"text-align: right;\">\n",
       "      <th></th>\n",
       "      <th>Month</th>\n",
       "      <th>DayofMonth</th>\n",
       "      <th>DayOfWeek</th>\n",
       "      <th>DepTime</th>\n",
       "      <th>UniqueCarrier</th>\n",
       "      <th>Origin</th>\n",
       "      <th>Dest</th>\n",
       "      <th>Distance</th>\n",
       "      <th>dep_delayed_15min</th>\n",
       "    </tr>\n",
       "  </thead>\n",
       "  <tbody>\n",
       "    <tr>\n",
       "      <th>0</th>\n",
       "      <td>c-7</td>\n",
       "      <td>c-4</td>\n",
       "      <td>c-1</td>\n",
       "      <td>1835</td>\n",
       "      <td>AS</td>\n",
       "      <td>SFO</td>\n",
       "      <td>SEA</td>\n",
       "      <td>679</td>\n",
       "      <td>N</td>\n",
       "    </tr>\n",
       "    <tr>\n",
       "      <th>1</th>\n",
       "      <td>c-7</td>\n",
       "      <td>c-21</td>\n",
       "      <td>c-5</td>\n",
       "      <td>2341</td>\n",
       "      <td>DL</td>\n",
       "      <td>SEA</td>\n",
       "      <td>CVG</td>\n",
       "      <td>1964</td>\n",
       "      <td>N</td>\n",
       "    </tr>\n",
       "    <tr>\n",
       "      <th>2</th>\n",
       "      <td>c-10</td>\n",
       "      <td>c-9</td>\n",
       "      <td>c-7</td>\n",
       "      <td>1027</td>\n",
       "      <td>NW</td>\n",
       "      <td>GTF</td>\n",
       "      <td>FCA</td>\n",
       "      <td>146</td>\n",
       "      <td>N</td>\n",
       "    </tr>\n",
       "    <tr>\n",
       "      <th>3</th>\n",
       "      <td>c-10</td>\n",
       "      <td>c-20</td>\n",
       "      <td>c-5</td>\n",
       "      <td>1823</td>\n",
       "      <td>XE</td>\n",
       "      <td>DCA</td>\n",
       "      <td>CLE</td>\n",
       "      <td>310</td>\n",
       "      <td>N</td>\n",
       "    </tr>\n",
       "    <tr>\n",
       "      <th>4</th>\n",
       "      <td>c-11</td>\n",
       "      <td>c-15</td>\n",
       "      <td>c-3</td>\n",
       "      <td>2059</td>\n",
       "      <td>FL</td>\n",
       "      <td>ATL</td>\n",
       "      <td>LGA</td>\n",
       "      <td>761</td>\n",
       "      <td>Y</td>\n",
       "    </tr>\n",
       "  </tbody>\n",
       "</table>\n",
       "</div>"
      ],
      "text/plain": [
       "  Month DayofMonth DayOfWeek  DepTime UniqueCarrier Origin Dest  Distance  \\\n",
       "0   c-7        c-4       c-1     1835            AS    SFO  SEA       679   \n",
       "1   c-7       c-21       c-5     2341            DL    SEA  CVG      1964   \n",
       "2  c-10        c-9       c-7     1027            NW    GTF  FCA       146   \n",
       "3  c-10       c-20       c-5     1823            XE    DCA  CLE       310   \n",
       "4  c-11       c-15       c-3     2059            FL    ATL  LGA       761   \n",
       "\n",
       "  dep_delayed_15min  \n",
       "0                 N  \n",
       "1                 N  \n",
       "2                 N  \n",
       "3                 N  \n",
       "4                 Y  "
      ]
     },
     "execution_count": 109,
     "metadata": {},
     "output_type": "execute_result"
    }
   ],
   "source": [
    "train_df.head()"
   ]
  },
  {
   "cell_type": "code",
   "execution_count": 110,
   "metadata": {},
   "outputs": [
    {
     "data": {
      "text/plain": [
       "Index([u'Month', u'DayofMonth', u'DayOfWeek', u'DepTime', u'UniqueCarrier',\n",
       "       u'Origin', u'Dest', u'Distance', u'dep_delayed_15min'],\n",
       "      dtype='object')"
      ]
     },
     "execution_count": 110,
     "metadata": {},
     "output_type": "execute_result"
    }
   ],
   "source": [
    "train_num = train_df.drop([\"DepTime\",\"Distance\"], axis=1)\n",
    "train_df.columns"
   ]
  },
  {
   "cell_type": "code",
   "execution_count": 111,
   "metadata": {
    "collapsed": true
   },
   "outputs": [],
   "source": [
    "def one_hot_encode(column, identifer):\n",
    "    \"\"\" one hot encoding the column\n",
    "\n",
    "    column: the pandas column\n",
    "    identifer: the column name\n",
    "    \"\"\"\n",
    "    # Ge one hot encoding of the column\n",
    "    encoded_data = pd.get_dummies(column)\n",
    "    encoded_cols = encoded_data.columns\n",
    "    encoded_data.columns = [\"{0}_{1}\".format(identifer, col) for col in encoded_cols]\n",
    "    return (encoded_data)"
   ]
  },
  {
   "cell_type": "code",
   "execution_count": 79,
   "metadata": {},
   "outputs": [
    {
     "name": "stdout",
     "output_type": "stream",
     "text": [
      "<class 'pandas.core.frame.DataFrame'>\n",
      "<class 'pandas.core.frame.DataFrame'>\n",
      "<class 'pandas.core.frame.DataFrame'>\n",
      "<class 'pandas.core.frame.DataFrame'>\n",
      "<class 'pandas.core.frame.DataFrame'>\n",
      "<class 'pandas.core.frame.DataFrame'>\n",
      "CPU times: user 734 ms, sys: 70.7 ms, total: 805 ms\n",
      "Wall time: 821 ms\n"
     ]
    }
   ],
   "source": [
    "cat_cols = [\"Month\",\"DayofMonth\",\"DayOfWeek\",\n",
    "        \"UniqueCarrier\", \"Origin\", \"Dest\"]\n",
    "num_cols = [\"DepTime\",\"Distance\"]\n",
    "label_col = \"dep_delayed_15min\"\n",
    "num_train_rows = train_df.shape[0]\n",
    "union_train_test = train_df.append(test_df)\n",
    "%time encoded_train_test_cat = pd.concat([one_hot_encode(union_train_test[col], col) for col in cat_cols], axis=1)\n",
    "# concat numeric columns with one hot encoded columns\n",
    "encoded_train_test = pd.concat(\n",
    "    [encoded_train_test_cat, union_train_test.loc[:, num_cols]], axis=1)\n",
    "encoded_target = np.where(union_train_test[label_col] == \"Y\", 1, 0)\n",
    "X_train = encoded_train_test[0:num_train_rows]\n",
    "y_train = encoded_target[0:num_train_rows]\n",
    "X_test = encoded_train_test[num_train_rows:]\n",
    "y_test = encoded_target[num_train_rows:]"
   ]
  },
  {
   "cell_type": "code",
   "execution_count": 114,
   "metadata": {},
   "outputs": [
    {
     "data": {
      "text/plain": [
       "pandas.core.frame.DataFrame"
      ]
     },
     "execution_count": 114,
     "metadata": {},
     "output_type": "execute_result"
    }
   ],
   "source": []
  },
  {
   "cell_type": "code",
   "execution_count": 81,
   "metadata": {},
   "outputs": [
    {
     "name": "stdout",
     "output_type": "stream",
     "text": [
      "CPU times: user 179 ms, sys: 160 ms, total: 339 ms\n",
      "Wall time: 523 ms\n"
     ]
    },
    {
     "data": {
      "text/plain": [
       "LogisticRegression(C=1000, class_weight=None, dual=False, fit_intercept=True,\n",
       "          intercept_scaling=1, max_iter=100, multi_class='ovr', n_jobs=1,\n",
       "          penalty='l2', random_state=None, solver='liblinear', tol=0.0001,\n",
       "          verbose=0, warm_start=False)"
      ]
     },
     "execution_count": 81,
     "metadata": {},
     "output_type": "execute_result"
    }
   ],
   "source": [
    "classifier = LogisticRegression(tol=1e-4, C=1000)\n",
    "%time classifier.fit(X_train, y_train)"
   ]
  },
  {
   "cell_type": "code",
   "execution_count": 89,
   "metadata": {},
   "outputs": [
    {
     "data": {
      "text/plain": [
       "0.68670030915007119"
      ]
     },
     "execution_count": 89,
     "metadata": {},
     "output_type": "execute_result"
    }
   ],
   "source": [
    "predictions = classifier.predict_proba(X_test)\n",
    "y_score = predictions[:, 1]\n",
    "metrics.roc_auc_score(y_test, y_score)"
   ]
  },
  {
   "cell_type": "code",
   "execution_count": 97,
   "metadata": {},
   "outputs": [
    {
     "data": {
      "image/png": "[encoded data removed]",
      "text/plain": [
       "<matplotlib.figure.Figure at 0x1a130bd590>"
      ]
     },
     "metadata": {},
     "output_type": "display_data"
    }
   ],
   "source": [
    "%matplotlib inline\n",
    "import matplotlib\n",
    "matplotlib.use(\"Agg\")\n",
    "import matplotlib.pyplot as plt\n",
    "fpr, tpr, thresholds = metrics.roc_curve(y_test, y_score)\n",
    "fig = plt.figure(1)\n",
    "plt.plot([0, 1], [0, 1], 'k--')\n",
    "plt.plot(fpr, tpr, label='RT + LR')\n",
    "fig.savefig(\"/Users/lgrcyanny/Downloads/roc.png\")"
   ]
  },
  {
   "cell_type": "code",
   "execution_count": 106,
   "metadata": {},
   "outputs": [
    {
     "data": {
      "text/plain": [
       "['/Users/lgrcyanny/Downloads//model.pickle']"
      ]
     },
     "execution_count": 106,
     "metadata": {},
     "output_type": "execute_result"
    }
   ],
   "source": [
    "from sklearn.externals import joblib\n",
    "joblib.dump(classifier, '/Users/lgrcyanny/Downloads//model.pickle')"
   ]
  },
  {
   "cell_type": "code",
   "execution_count": null,
   "metadata": {
    "collapsed": true
   },
   "outputs": [],
   "source": []
  }
 ],
 "metadata": {
  "kernelspec": {
   "display_name": "Python 2",
   "language": "python",
   "name": "python2"
  },
  "language_info": {
   "codemirror_mode": {
    "name": "ipython",
    "version": 2
   },
   "file_extension": ".py",
   "mimetype": "text/x-python",
   "name": "python",
   "nbconvert_exporter": "python",
   "pygments_lexer": "ipython2",
   "version": "2.7.12"
  }
 },
 "nbformat": 4,
 "nbformat_minor": 2
}
